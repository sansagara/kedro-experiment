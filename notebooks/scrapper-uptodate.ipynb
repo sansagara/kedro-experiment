{
 "cells": [
  {
   "cell_type": "markdown",
   "metadata": {},
   "source": [
    "**Step 1:** Get articles from [UpToDate](https://www.uptodate.com/contents/coronavirus-disease-2019-covid-19).\n",
    "We can use the requests library to do this."
   ]
  },
  {
   "cell_type": "code",
   "execution_count": 11,
   "metadata": {},
   "outputs": [],
   "source": [
    "# import statements\n",
    "import requests"
   ]
  },
  {
   "cell_type": "code",
   "execution_count": 17,
   "metadata": {},
   "outputs": [],
   "source": [
    "# fetch web page\n",
    "r = requests.get(\"https://www.uptodate.com/services/app/contents/topic/coronavirus-disease-2019-covid-19/json\")"
   ]
  },
  {
   "cell_type": "markdown",
   "metadata": {},
   "source": [
    "This website, however redirects to a single, complete article. There's links to other ones, however. Notice the ending path arg."
   ]
  },
  {
   "cell_type": "markdown",
   "metadata": {},
   "source": [
    "**Step 2:** Use requests to get json of the API"
   ]
  },
  {
   "cell_type": "code",
   "execution_count": 47,
   "metadata": {},
   "outputs": [],
   "source": [
    "articles = r.json()['data']\n",
    "assets = r.json()['assetList']"
   ]
  },
  {
   "cell_type": "markdown",
   "metadata": {},
   "source": [
    "**Step 3:** Find all course summaries"
   ]
  },
  {
   "cell_type": "code",
   "execution_count": 65,
   "metadata": {},
   "outputs": [
    {
     "name": "stdout",
     "output_type": "stream",
     "text": [
      "126981\n"
     ]
    }
   ],
   "source": [
    "# Extract Article ID\n",
    "print(articles.get('topicInfo').get('id'))"
   ]
  },
  {
   "cell_type": "code",
   "execution_count": 53,
   "metadata": {},
   "outputs": [
    {
     "name": "stdout",
     "output_type": "stream",
     "text": [
      "medical\n"
     ]
    }
   ],
   "source": [
    "# Extract Article Type\n",
    "print(articles.get('topicInfo').get('type'))"
   ]
  },
  {
   "cell_type": "code",
   "execution_count": 54,
   "metadata": {},
   "outputs": [
    {
     "name": "stdout",
     "output_type": "stream",
     "text": [
      "medical_review\n"
     ]
    }
   ],
   "source": [
    "# Extract Article SubType\n",
    "print(articles.get('topicInfo').get('subtype'))"
   ]
  },
  {
   "cell_type": "code",
   "execution_count": 55,
   "metadata": {},
   "outputs": [
    {
     "name": "stdout",
     "output_type": "stream",
     "text": [
      "57.0\n"
     ]
    }
   ],
   "source": [
    "# Extract Article Version\n",
    "print(articles.get('topicInfo').get('version'))"
   ]
  },
  {
   "cell_type": "code",
   "execution_count": 56,
   "metadata": {},
   "outputs": [
    {
     "name": "stdout",
     "output_type": "stream",
     "text": [
      "Coronavirus disease 2019 (COVID-19): Epidemiology, virology, clinical features, diagnosis, and prevention\n"
     ]
    }
   ],
   "source": [
    "# Extract Article Title\n",
    "print(articles.get('topicInfo').get('title'))"
   ]
  },
  {
   "cell_type": "code",
   "execution_count": 58,
   "metadata": {},
   "outputs": [
    {
     "name": "stdout",
     "output_type": "stream",
     "text": [
      "<nav id=\"outlineSections\"><h2>Topic Outline</h2><ul id=\"innerOutline\"><li class=\"sr-button\"><a href=\"#H3392906512\"><span>SUMMARY AND RECOMMENDATIONS</span></a></li><li><a href=\"#H1299415271\" id=\"outline-link-H1299415271\">INTRODUCTION</a></li><li><a href=\"#H1305971586\" id=\"outline-link-H1305971586\">VIROLOGY</a></li><li><a href=\"#H4014462337\" id=\"outline-link-H4014462337\">EPIDEMIOLOGY</a><ul><li><a href=\"#H1963533542\" id=\"outline-link-H1963533542\">Geographic distribution</a></li><li><a href=\"#H378\n"
     ]
    }
   ],
   "source": [
    "# Extract Article Outline\n",
    "print(articles.get('outlineHtml')[:500])"
   ]
  },
  {
   "cell_type": "code",
   "execution_count": 59,
   "metadata": {},
   "outputs": [
    {
     "name": "stdout",
     "output_type": "stream",
     "text": [
      "<div id=\"topicContent\" class=\"utdArticleSection utdStyle\"><div id=\"disclaimer\">The content on the UpToDate website is not intended nor recommended as a substitute for medical advice, diagnosis, or treatment.  Always seek the advice of your own physician or other qualified health care professional regarding any medical questions or conditions.\n",
      "The use of UpToDate content is governed by the <a href=\"/legal/terms-of-use\" class=\"legal legal_termsofuse\">UpToDate Terms of Use</a>. &copy;2020 UpToDate,\n",
      "viewOutlineText\n"
     ]
    }
   ],
   "source": [
    "# Extract Article Body\n",
    "print(articles.get('bodyHtml')[:500])"
   ]
  },
  {
   "cell_type": "code",
   "execution_count": 60,
   "metadata": {},
   "outputs": [
    {
     "name": "stdout",
     "output_type": "stream",
     "text": [
      "View Outline\n"
     ]
    }
   ],
   "source": [
    "# Outline Text\n",
    "print(articles.get('viewOutlineText')[:500])"
   ]
  },
  {
   "cell_type": "code",
   "execution_count": 62,
   "metadata": {},
   "outputs": [
    {
     "name": "stdout",
     "output_type": "stream",
     "text": [
      "Coronaviruses are important human and animal pathogens. At the end of 2019, a novel coronavirus was \n"
     ]
    }
   ],
   "source": [
    "# Meta Description\n",
    "print(articles.get('metaDescription')[:100])"
   ]
  },
  {
   "cell_type": "code",
   "execution_count": 63,
   "metadata": {},
   "outputs": [
    {
     "name": "stdout",
     "output_type": "stream",
     "text": [
      "dict_keys(['assetKey', 'assetEncoding', 'data'])\n"
     ]
    }
   ],
   "source": [
    "# Assets\n",
    "print(assets[0].keys())"
   ]
  },
  {
   "cell_type": "markdown",
   "metadata": {},
   "source": [
    "### TODO: Get hold of the related articles, in order to scrap multiple ones."
   ]
  },
  {
   "cell_type": "code",
   "execution_count": null,
   "metadata": {},
   "outputs": [],
   "source": []
  }
 ],
 "metadata": {
  "kernelspec": {
   "display_name": "kedroexperiment",
   "language": "python",
   "name": "python3"
  },
  "language_info": {
   "codemirror_mode": {
    "name": "ipython",
    "version": 3
   },
   "file_extension": ".py",
   "mimetype": "text/x-python",
   "name": "python",
   "nbconvert_exporter": "python",
   "pygments_lexer": "ipython3",
   "version": "3.7.7"
  }
 },
 "nbformat": 4,
 "nbformat_minor": 4
}
