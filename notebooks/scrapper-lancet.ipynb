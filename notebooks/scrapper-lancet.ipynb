{
 "cells": [
  {
   "cell_type": "markdown",
   "metadata": {},
   "source": [
    "**Step 1:** Get articles from [The lancet](https://www.thelancet.com).\n",
    "We can use the requests library to do this."
   ]
  },
  {
   "cell_type": "code",
   "execution_count": 17,
   "metadata": {},
   "outputs": [],
   "source": [
    "# import statements\n",
    "import requests\n",
    "from bs4 import BeautifulSoup\n",
    "import pandas as pd"
   ]
  },
  {
   "cell_type": "code",
   "execution_count": 2,
   "metadata": {},
   "outputs": [],
   "source": [
    "# fetch web page\n",
    "r = requests.get(\"https://www.thelancet.com/coronavirus\")"
   ]
  },
  {
   "cell_type": "markdown",
   "metadata": {},
   "source": [
    "**Step 2:** Use BeautifulSoup to remove HTML tags.\n",
    "Use \"lxml\" rather than \"html5lib\".\n",
    "Outputting all the results may overload the space available to load this notebook, so we omit a print statement here.\n"
   ]
  },
  {
   "cell_type": "code",
   "execution_count": 3,
   "metadata": {},
   "outputs": [],
   "source": [
    "soup = BeautifulSoup(r.text, \"lxml\")"
   ]
  },
  {
   "cell_type": "markdown",
   "metadata": {},
   "source": [
    "**Step 3:** Find all course summaries\n",
    "Use the BeautifulSoup's find_all method to select based on tag type and class name. On Chrome, you can right click on the item, and click \"Inspect\" to view its html on a web page."
   ]
  },
  {
   "cell_type": "code",
   "execution_count": 4,
   "metadata": {},
   "outputs": [
    {
     "name": "stdout",
     "output_type": "stream",
     "text": [
      "Number of articles: 43\n"
     ]
    }
   ],
   "source": [
    "# Find all articles\n",
    "articles = soup.find_all(\"div\", {\"class\":\"articleCitation\"})\n",
    "print('Number of articles:', len(articles))"
   ]
  },
  {
   "cell_type": "code",
   "execution_count": 5,
   "metadata": {},
   "outputs": [
    {
     "name": "stdout",
     "output_type": "stream",
     "text": [
      "<div class=\"articleCitation\">\n",
      " <li>\n",
      "  <div class=\"detail\">\n",
      "   <div class=\"article-details\">\n",
      "    <div class=\"articleType doctopic-1-analysisAndInterpretation label-correspondence\">\n",
      "     Correspondence\n",
      "    </div>\n",
      "    <div class=\"articleTitle\">\n",
      "     <h4 class=\"title\" id=\"S0140-6736(20)30980-6-title\">\n",
      "      <div class=\"rightTitleInfo\">\n",
      "       <div class=\"icons atype-cor\">\n",
      "        <!--${freeContentIcon: 10.1016/S0140-6736(20)30980-6}-->\n",
      "       </div>\n",
      "      </div>\n",
      "      <a href=\"/journals/lancet/article/PIIS0140-6736(20)30980-6/fulltext\">\n",
      "       Atypical presentation of COVID-19 in young infants\n",
      "      </a>\n",
      "     </h4>\n",
      "    </div>\n",
      "    <div class=\"authors\" id=\"S0140-6736(20)30980-6-au\">\n",
      "     Nadia Nathan, Blandine Prevost, Harriet Corvol\n",
      "    </div>\n",
      "    <div class=\"doi\" data-doi=\"10.1016/S0140-6736(20)30980-6\">\n",
      "     DOI:\n",
      "     <a href=\"https://doi.org/10.1016/S0140-6736(20)30980-6\">\n",
      "      https://doi.org/10.1016/S0140-6736(20)30980-6\n",
      "     </a>\n",
      "    </div>\n",
      "    <div class=\"citation\">\n",
      "     <span class=\"journalTitleSp\">\n",
      "      The Lancet\n",
      "     </span>\n",
      "    </div>\n",
      "    <div class=\"published-online\">\n",
      "     Published: April 27, 2020\n",
      "    </div>\n",
      "   </div>\n",
      "  </div>\n",
      " </li>\n",
      "</div>\n",
      "\n"
     ]
    }
   ],
   "source": [
    "# print the first summary in articles\n",
    "print(articles[0].prettify())"
   ]
  },
  {
   "cell_type": "code",
   "execution_count": 56,
   "metadata": {},
   "outputs": [
    {
     "data": {
      "text/plain": [
       "'Correspondence'"
      ]
     },
     "execution_count": 56,
     "metadata": {},
     "output_type": "execute_result"
    }
   ],
   "source": [
    "# Extract article type\n",
    "articles[0].select_one(\".articleType\").get_text().strip()"
   ]
  },
  {
   "cell_type": "code",
   "execution_count": 34,
   "metadata": {},
   "outputs": [
    {
     "data": {
      "text/plain": [
       "'Atypical presentation of COVID-19 in young infants'"
      ]
     },
     "execution_count": 34,
     "metadata": {},
     "output_type": "execute_result"
    }
   ],
   "source": [
    "# Extract article title\n",
    "articles[0].select_one(\".articleTitle\").get_text().strip()"
   ]
  },
  {
   "cell_type": "code",
   "execution_count": 35,
   "metadata": {},
   "outputs": [
    {
     "data": {
      "text/plain": [
       "'DOI: https://doi.org/10.1016/S0140-6736(20)30980-6'"
      ]
     },
     "execution_count": 35,
     "metadata": {},
     "output_type": "execute_result"
    }
   ],
   "source": [
    "# Extract article Digital Object Identifier\n",
    "articles[0].select_one(\".doi\").get_text().strip()"
   ]
  },
  {
   "cell_type": "code",
   "execution_count": 55,
   "metadata": {},
   "outputs": [
    {
     "data": {
      "text/plain": [
       "'Nadia Nathan, Blandine Prevost, Harriet Corvol'"
      ]
     },
     "execution_count": 55,
     "metadata": {},
     "output_type": "execute_result"
    }
   ],
   "source": [
    "# Extract article authors\n",
    "articles[0].select_one(\".authors\").get_text().strip()"
   ]
  },
  {
   "cell_type": "code",
   "execution_count": 57,
   "metadata": {},
   "outputs": [
    {
     "data": {
      "text/plain": [
       "'The Lancet'"
      ]
     },
     "execution_count": 57,
     "metadata": {},
     "output_type": "execute_result"
    }
   ],
   "source": [
    "# Extract citation\n",
    "articles[0].select_one(\".citation\").get_text().strip()"
   ]
  },
  {
   "cell_type": "code",
   "execution_count": 58,
   "metadata": {},
   "outputs": [
    {
     "data": {
      "text/plain": [
       "'Published: April 27, 2020'"
      ]
     },
     "execution_count": 58,
     "metadata": {},
     "output_type": "execute_result"
    }
   ],
   "source": [
    "# Extract published date\n",
    "articles[0].select_one(\".published-online\").get_text().strip()"
   ]
  },
  {
   "cell_type": "code",
   "execution_count": 14,
   "metadata": {},
   "outputs": [
    {
     "data": {
      "text/plain": [
       "'Closed'"
      ]
     },
     "execution_count": 14,
     "metadata": {},
     "output_type": "execute_result"
    }
   ],
   "source": [
    "# Extract availability\n",
    "'Open' if articles[0].find_all(\".OALabel\") else 'Closed'"
   ]
  },
  {
   "cell_type": "markdown",
   "metadata": {},
   "source": [
    "## Create dataset from All Articles"
   ]
  },
  {
   "cell_type": "code",
   "execution_count": 89,
   "metadata": {},
   "outputs": [],
   "source": [
    "# Create data list\n",
    "data = list()\n",
    "for article in articles:\n",
    "    data.append(\n",
    "        [article.select_one(\".articleType\").get_text().strip() if article.find_all(\"div\", {\"class\": \"articleType\"}) else 'N/A',\n",
    "         article.select_one(\".articleTitle\").get_text().strip(),\n",
    "         article.select_one(\".articleTitle\").select_one(\"a\")['href'],\n",
    "         article.select_one(\".doi\").get_text().split('DOI:')[1],\n",
    "         article.select_one(\".authors\").get_text() if article.find_all(\"div\", {\"class\": \"authors\"}) else 'N/A',\n",
    "         article.select_one(\".citation\").get_text().strip(),\n",
    "         article.select_one(\".published-online\").get_text().split('Published:')[1] if article.find_all(\"div\", {\"class\": \"published-online\"}) else 'N/A',\n",
    "         'Open' if article.find_all(\".OALabel\") else 'Closed'\n",
    "    ])"
   ]
  },
  {
   "cell_type": "code",
   "execution_count": 93,
   "metadata": {},
   "outputs": [
    {
     "data": {
      "text/html": [
       "<div>\n",
       "<style scoped>\n",
       "    .dataframe tbody tr th:only-of-type {\n",
       "        vertical-align: middle;\n",
       "    }\n",
       "\n",
       "    .dataframe tbody tr th {\n",
       "        vertical-align: top;\n",
       "    }\n",
       "\n",
       "    .dataframe thead th {\n",
       "        text-align: right;\n",
       "    }\n",
       "</style>\n",
       "<table border=\"1\" class=\"dataframe\">\n",
       "  <thead>\n",
       "    <tr style=\"text-align: right;\">\n",
       "      <th></th>\n",
       "      <th>Type</th>\n",
       "      <th>Title</th>\n",
       "      <th>Link</th>\n",
       "      <th>DOI_link</th>\n",
       "      <th>Authors</th>\n",
       "      <th>Citation</th>\n",
       "      <th>PublishedDate</th>\n",
       "      <th>Availability</th>\n",
       "    </tr>\n",
       "  </thead>\n",
       "  <tbody>\n",
       "    <tr>\n",
       "      <th>0</th>\n",
       "      <td>Correspondence</td>\n",
       "      <td>Atypical presentation of COVID-19 in young inf...</td>\n",
       "      <td>/journals/lancet/article/PIIS0140-6736(20)3098...</td>\n",
       "      <td>https://doi.org/10.1016/S0140-6736(20)30980-6</td>\n",
       "      <td>Nadia Nathan, Blandine Prevost, Harriet Corvol</td>\n",
       "      <td>The Lancet</td>\n",
       "      <td>April 27, 2020</td>\n",
       "      <td>Closed</td>\n",
       "    </tr>\n",
       "    <tr>\n",
       "      <th>1</th>\n",
       "      <td>Correspondence</td>\n",
       "      <td>What does it mean to be made vulnerable in the...</td>\n",
       "      <td>/journals/lancet/article/PIIS0140-6736(20)3097...</td>\n",
       "      <td>https://doi.org/10.1016/S0140-6736(20)30979-X</td>\n",
       "      <td>Ayesha Ahmad, Ryoa Chung, Lisa Eckenwiler, Ago...</td>\n",
       "      <td>The Lancet</td>\n",
       "      <td>April 27, 2020</td>\n",
       "      <td>Closed</td>\n",
       "    </tr>\n",
       "    <tr>\n",
       "      <th>2</th>\n",
       "      <td>Correspondence</td>\n",
       "      <td>An international registry for emergent pathoge...</td>\n",
       "      <td>/journals/lancet/article/PIIS0140-6736(20)3098...</td>\n",
       "      <td>https://doi.org/10.1016/S0140-6736(20)30981-8</td>\n",
       "      <td>Alice Panchaud, Guillaume Favre, Leo Pomar, Ma...</td>\n",
       "      <td>The Lancet</td>\n",
       "      <td>April 27, 2020</td>\n",
       "      <td>Closed</td>\n",
       "    </tr>\n",
       "    <tr>\n",
       "      <th>3</th>\n",
       "      <td>Comment</td>\n",
       "      <td>What policy makers need to know about COVID-19...</td>\n",
       "      <td>/journals/lancet/article/PIIS0140-6736(20)3098...</td>\n",
       "      <td>https://doi.org/10.1016/S0140-6736(20)30985-5</td>\n",
       "      <td>Daniel M Altmann, Daniel C Douek, Rosemary J B...</td>\n",
       "      <td>The Lancet</td>\n",
       "      <td>April 27, 2020</td>\n",
       "      <td>Closed</td>\n",
       "    </tr>\n",
       "    <tr>\n",
       "      <th>4</th>\n",
       "      <td>Comment</td>\n",
       "      <td>Management of patients with multiple myeloma d...</td>\n",
       "      <td>/journals/lanhae/article/PIIS2352-3026(20)3012...</td>\n",
       "      <td>https://doi.org/10.1016/S2352-3026(20)30124-1</td>\n",
       "      <td>Florent Malard, Mohamad Mohty</td>\n",
       "      <td>The Lancet Haematology</td>\n",
       "      <td>April 27, 2020</td>\n",
       "      <td>Closed</td>\n",
       "    </tr>\n",
       "  </tbody>\n",
       "</table>\n",
       "</div>"
      ],
      "text/plain": [
       "             Type                                              Title  \\\n",
       "0  Correspondence  Atypical presentation of COVID-19 in young inf...   \n",
       "1  Correspondence  What does it mean to be made vulnerable in the...   \n",
       "2  Correspondence  An international registry for emergent pathoge...   \n",
       "3         Comment  What policy makers need to know about COVID-19...   \n",
       "4         Comment  Management of patients with multiple myeloma d...   \n",
       "\n",
       "                                                Link  \\\n",
       "0  /journals/lancet/article/PIIS0140-6736(20)3098...   \n",
       "1  /journals/lancet/article/PIIS0140-6736(20)3097...   \n",
       "2  /journals/lancet/article/PIIS0140-6736(20)3098...   \n",
       "3  /journals/lancet/article/PIIS0140-6736(20)3098...   \n",
       "4  /journals/lanhae/article/PIIS2352-3026(20)3012...   \n",
       "\n",
       "                                         DOI_link  \\\n",
       "0   https://doi.org/10.1016/S0140-6736(20)30980-6   \n",
       "1   https://doi.org/10.1016/S0140-6736(20)30979-X   \n",
       "2   https://doi.org/10.1016/S0140-6736(20)30981-8   \n",
       "3   https://doi.org/10.1016/S0140-6736(20)30985-5   \n",
       "4   https://doi.org/10.1016/S2352-3026(20)30124-1   \n",
       "\n",
       "                                             Authors                Citation  \\\n",
       "0     Nadia Nathan, Blandine Prevost, Harriet Corvol              The Lancet   \n",
       "1  Ayesha Ahmad, Ryoa Chung, Lisa Eckenwiler, Ago...              The Lancet   \n",
       "2  Alice Panchaud, Guillaume Favre, Leo Pomar, Ma...              The Lancet   \n",
       "3  Daniel M Altmann, Daniel C Douek, Rosemary J B...              The Lancet   \n",
       "4                      Florent Malard, Mohamad Mohty  The Lancet Haematology   \n",
       "\n",
       "     PublishedDate Availability  \n",
       "0   April 27, 2020       Closed  \n",
       "1   April 27, 2020       Closed  \n",
       "2   April 27, 2020       Closed  \n",
       "3   April 27, 2020       Closed  \n",
       "4   April 27, 2020       Closed  "
      ]
     },
     "execution_count": 93,
     "metadata": {},
     "output_type": "execute_result"
    }
   ],
   "source": [
    "# Create pandas dataframe\n",
    "df = pd.DataFrame(data, columns = ['Type', 'Title', 'Link', 'DOI_link', 'Authors', 'Citation', 'PublishedDate', 'Availability'])\n",
    "df.head()"
   ]
  },
  {
   "cell_type": "code",
   "execution_count": 92,
   "metadata": {},
   "outputs": [],
   "source": [
    "# Export CSV\n",
    "df.to_csv('data/the_lancet_articles.csv')"
   ]
  },
  {
   "cell_type": "code",
   "execution_count": null,
   "metadata": {},
   "outputs": [],
   "source": []
  }
 ],
 "metadata": {
  "kernelspec": {
   "display_name": "kedroexperiment",
   "language": "python",
   "name": "python3"
  },
  "language_info": {
   "codemirror_mode": {
    "name": "ipython",
    "version": 3
   },
   "file_extension": ".py",
   "mimetype": "text/x-python",
   "name": "python",
   "nbconvert_exporter": "python",
   "pygments_lexer": "ipython3",
   "version": "3.7.7"
  }
 },
 "nbformat": 4,
 "nbformat_minor": 4
}
