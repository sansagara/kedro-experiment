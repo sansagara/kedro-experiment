{
 "cells": [
  {
   "cell_type": "markdown",
   "metadata": {},
   "source": [
    "**Step 1:** Get text from [PubMed](https://www.ncbi.nlm.nih.gov/research/coronavirus)\n",
    "You can use the requests library to do this.\n",
    "Outputting all the javascript, CSS, and text may overload the space available to load this notebook, so we omit a print statement here.\n"
   ]
  },
  {
   "cell_type": "code",
   "execution_count": 9,
   "metadata": {},
   "outputs": [],
   "source": [
    "# import statements\n",
    "import requests\n",
    "import pandas as pd"
   ]
  },
  {
   "cell_type": "code",
   "execution_count": 10,
   "metadata": {},
   "outputs": [],
   "source": [
    "# fetch web page\n",
    "r = requests.get(\"https://www.ncbi.nlm.nih.gov/research/coronavirus-api/search/?filters=%7B%7D&sort=score%20desc\")"
   ]
  },
  {
   "cell_type": "markdown",
   "metadata": {},
   "source": [
    "**Step 2:** Use requests to get json of the API"
   ]
  },
  {
   "cell_type": "code",
   "execution_count": 11,
   "metadata": {},
   "outputs": [
    {
     "name": "stdout",
     "output_type": "stream",
     "text": [
      "{'pmid': 32335184, 'title': 'Coronavirus Disease 2019 (COVID-19) and Radiology Education-Strategies for Survival.', 'journal': 'J Am Coll Radiol', 'authors': ['Slanetz, Priscilla J', 'Parikh, Ujas', 'Chapman, Teresa', 'Moutzas, Cari'], 'date': '2020-04-27T11:00:00Z', '_id': '32335184', 'topics': ['Prevention'], 'text_hl': None}\n"
     ]
    }
   ],
   "source": [
    "articles = r.json()['results']\n",
    "print(articles[0])"
   ]
  },
  {
   "cell_type": "markdown",
   "metadata": {},
   "source": [
    "**Step 3:** Find all course summaries"
   ]
  },
  {
   "cell_type": "code",
   "execution_count": 12,
   "metadata": {},
   "outputs": [
    {
     "data": {
      "text/plain": [
       "32335184"
      ]
     },
     "execution_count": 12,
     "metadata": {},
     "output_type": "execute_result"
    }
   ],
   "source": [
    "# Extract article PMID\n",
    "articles[0].get('pmid')"
   ]
  },
  {
   "cell_type": "code",
   "execution_count": 13,
   "metadata": {},
   "outputs": [
    {
     "data": {
      "text/plain": [
       "'Coronavirus Disease 2019 (COVID-19) and Radiology Education-Strategies for Survival.'"
      ]
     },
     "execution_count": 13,
     "metadata": {},
     "output_type": "execute_result"
    }
   ],
   "source": [
    "# Extract article title\n",
    "articles[0].get('title')"
   ]
  },
  {
   "cell_type": "code",
   "execution_count": 14,
   "metadata": {},
   "outputs": [
    {
     "data": {
      "text/plain": [
       "'J Am Coll Radiol'"
      ]
     },
     "execution_count": 14,
     "metadata": {},
     "output_type": "execute_result"
    }
   ],
   "source": [
    "# Extract article journal\n",
    "articles[0].get('journal')"
   ]
  },
  {
   "cell_type": "code",
   "execution_count": 15,
   "metadata": {},
   "outputs": [
    {
     "data": {
      "text/plain": [
       "['Slanetz, Priscilla J', 'Parikh, Ujas', 'Chapman, Teresa', 'Moutzas, Cari']"
      ]
     },
     "execution_count": 15,
     "metadata": {},
     "output_type": "execute_result"
    }
   ],
   "source": [
    "# Extract article authors\n",
    "articles[0].get('authors')"
   ]
  },
  {
   "cell_type": "code",
   "execution_count": 16,
   "metadata": {},
   "outputs": [
    {
     "data": {
      "text/plain": [
       "'2020-04-27T11:00:00Z'"
      ]
     },
     "execution_count": 16,
     "metadata": {},
     "output_type": "execute_result"
    }
   ],
   "source": [
    "# Extract published date\n",
    "articles[0].get('date')"
   ]
  },
  {
   "cell_type": "code",
   "execution_count": 17,
   "metadata": {},
   "outputs": [
    {
     "data": {
      "text/plain": [
       "['Prevention']"
      ]
     },
     "execution_count": 17,
     "metadata": {},
     "output_type": "execute_result"
    }
   ],
   "source": [
    "# Extract topics\n",
    "articles[0].get('topics')"
   ]
  },
  {
   "cell_type": "code",
   "execution_count": 18,
   "metadata": {},
   "outputs": [],
   "source": [
    "# Extract text Highlights\n",
    "articles[0].get('text_hl')"
   ]
  },
  {
   "cell_type": "markdown",
   "metadata": {},
   "source": [
    "## Create dataset from All Articles"
   ]
  },
  {
   "cell_type": "code",
   "execution_count": 19,
   "metadata": {},
   "outputs": [],
   "source": [
    "# Create data list\n",
    "data = list()\n",
    "for article in articles:\n",
    "    data.append(\n",
    "        [article.get('pmid'),\n",
    "         article.get('title'),\n",
    "         article.get('journal'),\n",
    "         article.get('authors'),\n",
    "         article.get('date'),\n",
    "         article.get('topics'),\n",
    "         article.get('text_hl')\n",
    "    ])"
   ]
  },
  {
   "cell_type": "code",
   "execution_count": 20,
   "metadata": {},
   "outputs": [
    {
     "data": {
      "text/html": [
       "<div>\n",
       "<style scoped>\n",
       "    .dataframe tbody tr th:only-of-type {\n",
       "        vertical-align: middle;\n",
       "    }\n",
       "\n",
       "    .dataframe tbody tr th {\n",
       "        vertical-align: top;\n",
       "    }\n",
       "\n",
       "    .dataframe thead th {\n",
       "        text-align: right;\n",
       "    }\n",
       "</style>\n",
       "<table border=\"1\" class=\"dataframe\">\n",
       "  <thead>\n",
       "    <tr style=\"text-align: right;\">\n",
       "      <th></th>\n",
       "      <th>PMID</th>\n",
       "      <th>Title</th>\n",
       "      <th>Joirnal</th>\n",
       "      <th>Authors</th>\n",
       "      <th>PublishedDate</th>\n",
       "      <th>Topics</th>\n",
       "      <th>HighLights</th>\n",
       "    </tr>\n",
       "  </thead>\n",
       "  <tbody>\n",
       "    <tr>\n",
       "      <th>0</th>\n",
       "      <td>32335184</td>\n",
       "      <td>Coronavirus Disease 2019 (COVID-19) and Radiol...</td>\n",
       "      <td>J Am Coll Radiol</td>\n",
       "      <td>[Slanetz, Priscilla J, Parikh, Ujas, Chapman, ...</td>\n",
       "      <td>2020-04-27T11:00:00Z</td>\n",
       "      <td>[Prevention]</td>\n",
       "      <td>None</td>\n",
       "    </tr>\n",
       "    <tr>\n",
       "      <th>1</th>\n",
       "      <td>32335585</td>\n",
       "      <td>The Coronavirus Pandemic: What Does the Eviden...</td>\n",
       "      <td>J Nepal Health Res Counc</td>\n",
       "      <td>[Paudel, Shishir, Dangal, Ganesh, Chalise, Ani...</td>\n",
       "      <td>2020-04-27T11:00:00Z</td>\n",
       "      <td>[Diagnosis, Mechanism, Treatment, Prevention]</td>\n",
       "      <td>None</td>\n",
       "    </tr>\n",
       "    <tr>\n",
       "      <th>2</th>\n",
       "      <td>32335168</td>\n",
       "      <td>Dynamics of anti-SARS-Cov-2 IgM and IgG antibo...</td>\n",
       "      <td>J Infect</td>\n",
       "      <td>[Lee, Yu-Lin, Liao, Chia-Hung, Liu, Po-Yu, Che...</td>\n",
       "      <td>2020-04-27T11:00:00Z</td>\n",
       "      <td>[Treatment, Diagnosis]</td>\n",
       "      <td>None</td>\n",
       "    </tr>\n",
       "    <tr>\n",
       "      <th>3</th>\n",
       "      <td>32335416</td>\n",
       "      <td>Coronavirus Disease 2019 (COVID-19) and dermat...</td>\n",
       "      <td>Ecotoxicol Environ Saf</td>\n",
       "      <td>[Emadi, Seyed-Naser, Abtahi-Naeini, Bahareh]</td>\n",
       "      <td>2020-04-27T11:00:00Z</td>\n",
       "      <td>[Prevention]</td>\n",
       "      <td>None</td>\n",
       "    </tr>\n",
       "    <tr>\n",
       "      <th>4</th>\n",
       "      <td>32335233</td>\n",
       "      <td>Personal protective equipment in the response ...</td>\n",
       "      <td>Int J Surg</td>\n",
       "      <td>[Ali, Yousif, Alradhawi, Mohammad, Shubber, No...</td>\n",
       "      <td>2020-04-27T11:00:00Z</td>\n",
       "      <td>[Prevention]</td>\n",
       "      <td>None</td>\n",
       "    </tr>\n",
       "  </tbody>\n",
       "</table>\n",
       "</div>"
      ],
      "text/plain": [
       "       PMID                                              Title  \\\n",
       "0  32335184  Coronavirus Disease 2019 (COVID-19) and Radiol...   \n",
       "1  32335585  The Coronavirus Pandemic: What Does the Eviden...   \n",
       "2  32335168  Dynamics of anti-SARS-Cov-2 IgM and IgG antibo...   \n",
       "3  32335416  Coronavirus Disease 2019 (COVID-19) and dermat...   \n",
       "4  32335233  Personal protective equipment in the response ...   \n",
       "\n",
       "                    Joirnal  \\\n",
       "0          J Am Coll Radiol   \n",
       "1  J Nepal Health Res Counc   \n",
       "2                  J Infect   \n",
       "3    Ecotoxicol Environ Saf   \n",
       "4                Int J Surg   \n",
       "\n",
       "                                             Authors         PublishedDate  \\\n",
       "0  [Slanetz, Priscilla J, Parikh, Ujas, Chapman, ...  2020-04-27T11:00:00Z   \n",
       "1  [Paudel, Shishir, Dangal, Ganesh, Chalise, Ani...  2020-04-27T11:00:00Z   \n",
       "2  [Lee, Yu-Lin, Liao, Chia-Hung, Liu, Po-Yu, Che...  2020-04-27T11:00:00Z   \n",
       "3       [Emadi, Seyed-Naser, Abtahi-Naeini, Bahareh]  2020-04-27T11:00:00Z   \n",
       "4  [Ali, Yousif, Alradhawi, Mohammad, Shubber, No...  2020-04-27T11:00:00Z   \n",
       "\n",
       "                                          Topics HighLights  \n",
       "0                                   [Prevention]       None  \n",
       "1  [Diagnosis, Mechanism, Treatment, Prevention]       None  \n",
       "2                         [Treatment, Diagnosis]       None  \n",
       "3                                   [Prevention]       None  \n",
       "4                                   [Prevention]       None  "
      ]
     },
     "execution_count": 20,
     "metadata": {},
     "output_type": "execute_result"
    }
   ],
   "source": [
    "# Create pandas dataframe\n",
    "df = pd.DataFrame(data, columns = ['PMID', 'Title', 'Joirnal', 'Authors', 'PublishedDate', 'Topics', 'HighLights'])\n",
    "df.head()"
   ]
  },
  {
   "cell_type": "code",
   "execution_count": 21,
   "metadata": {},
   "outputs": [],
   "source": [
    "# Export CSV\n",
    "df.to_csv('data/pubmed_articles.csv')"
   ]
  },
  {
   "cell_type": "code",
   "execution_count": null,
   "metadata": {},
   "outputs": [],
   "source": []
  }
 ],
 "metadata": {
  "kernelspec": {
   "display_name": "kedroexperiment",
   "language": "python",
   "name": "python3"
  },
  "language_info": {
   "codemirror_mode": {
    "name": "ipython",
    "version": 3
   },
   "file_extension": ".py",
   "mimetype": "text/x-python",
   "name": "python",
   "nbconvert_exporter": "python",
   "pygments_lexer": "ipython3",
   "version": "3.7.7"
  }
 },
 "nbformat": 4,
 "nbformat_minor": 4
}
