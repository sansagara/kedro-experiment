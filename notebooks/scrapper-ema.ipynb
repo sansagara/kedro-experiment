{
 "cells": [
  {
   "cell_type": "markdown",
   "metadata": {},
   "source": [
    "**Step 1:** Get articles from [EMA](https://www.ema.europa.eu/en/).\n",
    "We can use the requests library to do this."
   ]
  },
  {
   "cell_type": "code",
   "execution_count": 35,
   "metadata": {},
   "outputs": [],
   "source": [
    "# import statements\n",
    "import requests\n",
    "from bs4 import BeautifulSoup\n",
    "import pandas as pd"
   ]
  },
  {
   "cell_type": "code",
   "execution_count": 36,
   "metadata": {},
   "outputs": [],
   "source": [
    "# fetch web page\n",
    "r = requests.get(\"https://www.ema.europa.eu/en/human-regulatory/overview/public-health-threats/coronavirus-disease-covid-19/covid-19-whats-new\")"
   ]
  },
  {
   "cell_type": "markdown",
   "metadata": {},
   "source": [
    "**Step 2:** Use BeautifulSoup to remove HTML tags.\n",
    "Use \"lxml\" rather than \"html5lib\".\n",
    "Outputting all the results may overload the space available to load this notebook, so we omit a print statement here.\n"
   ]
  },
  {
   "cell_type": "code",
   "execution_count": 37,
   "metadata": {},
   "outputs": [],
   "source": [
    "soup = BeautifulSoup(r.text, \"lxml\")"
   ]
  },
  {
   "cell_type": "markdown",
   "metadata": {},
   "source": [
    "**Step 3:** Find all course summaries\n",
    "Use the BeautifulSoup's find_all method to select based on tag type and class name. On Chrome, you can right click on the item, and click \"Inspect\" to view its html on a web page."
   ]
  },
  {
   "cell_type": "code",
   "execution_count": 49,
   "metadata": {},
   "outputs": [],
   "source": [
    "# Find all articles\n",
    "table = soup.find(\"table\", {\"class\":\"ecl-table\"}).select_one(\"tbody\")\n",
    "articles=list()\n",
    "for row in table.findAll(\"tr\"):\n",
    "   articles.append(row)"
   ]
  },
  {
   "cell_type": "code",
   "execution_count": 50,
   "metadata": {},
   "outputs": [
    {
     "data": {
      "text/plain": [
       "'24 April'"
      ]
     },
     "execution_count": 50,
     "metadata": {},
     "output_type": "execute_result"
    }
   ],
   "source": [
    "# Extract date\n",
    "articles[1].find_all(\"td\")[0].get_text().strip()"
   ]
  },
  {
   "cell_type": "code",
   "execution_count": 51,
   "metadata": {},
   "outputs": [
    {
     "data": {
      "text/plain": [
       "'Availability of medicines during COVID-19 pandemic'"
      ]
     },
     "execution_count": 51,
     "metadata": {},
     "output_type": "execute_result"
    }
   ],
   "source": [
    "# Extract article title\n",
    "articles[1].find_all(\"td\")[1].get_text().strip()"
   ]
  },
  {
   "cell_type": "code",
   "execution_count": 52,
   "metadata": {},
   "outputs": [
    {
     "data": {
      "text/plain": [
       "'EMA provided an update on the measures EU authorities are putting in place to support the continued availability of medicines during the pandemic, following a meeting of the EU Executive Steering Group on Shortages of Medicines Caused by Major Events.'"
      ]
     },
     "execution_count": 52,
     "metadata": {},
     "output_type": "execute_result"
    }
   ],
   "source": [
    "# Extract citation\n",
    "articles[1].find_all(\"td\")[2].get_text().strip()"
   ]
  },
  {
   "cell_type": "code",
   "execution_count": 53,
   "metadata": {},
   "outputs": [
    {
     "data": {
      "text/plain": [
       "'https://www.ema.europa.eu/en/human-regulatory/overview/public-health-threats/coronavirus-disease-covid-19/availability-medicines-during-covid-19-pandemic'"
      ]
     },
     "execution_count": 53,
     "metadata": {},
     "output_type": "execute_result"
    }
   ],
   "source": [
    "# Extract link\n",
    "articles[1].find_all(\"td\")[1].select_one(\"a\")['href']"
   ]
  },
  {
   "cell_type": "code",
   "execution_count": 54,
   "metadata": {},
   "outputs": [
    {
     "data": {
      "text/plain": [
       "'EU actions to support availability of medicines during COVID-19 pandemic – update #3\\xa0(24/04/2020)'"
      ]
     },
     "execution_count": 54,
     "metadata": {},
     "output_type": "execute_result"
    }
   ],
   "source": [
    "# More Information Link\n",
    "articles[1].find_all(\"td\")[3].get_text()"
   ]
  },
  {
   "cell_type": "markdown",
   "metadata": {},
   "source": [
    "## Create dataset from All Articles"
   ]
  },
  {
   "cell_type": "code",
   "execution_count": 55,
   "metadata": {},
   "outputs": [],
   "source": [
    "# Create data list\n",
    "data = list()\n",
    "for article in articles:\n",
    "    data.append(\n",
    "        [article.find_all(\"td\")[1].get_text().strip(),\n",
    "         article.find_all(\"td\")[1].select_one(\"a\")['href'],\n",
    "         article.find_all(\"td\")[2].get_text().strip(),\n",
    "         article.find_all(\"td\")[0].get_text().strip(),\n",
    "         article.find_all(\"td\")[3].get_text()\n",
    "    ])"
   ]
  },
  {
   "cell_type": "code",
   "execution_count": 56,
   "metadata": {},
   "outputs": [
    {
     "data": {
      "text/html": [
       "<div>\n",
       "<style scoped>\n",
       "    .dataframe tbody tr th:only-of-type {\n",
       "        vertical-align: middle;\n",
       "    }\n",
       "\n",
       "    .dataframe tbody tr th {\n",
       "        vertical-align: top;\n",
       "    }\n",
       "\n",
       "    .dataframe thead th {\n",
       "        text-align: right;\n",
       "    }\n",
       "</style>\n",
       "<table border=\"1\" class=\"dataframe\">\n",
       "  <thead>\n",
       "    <tr style=\"text-align: right;\">\n",
       "      <th></th>\n",
       "      <th>Title</th>\n",
       "      <th>Link</th>\n",
       "      <th>Abstract</th>\n",
       "      <th>PublishedDate</th>\n",
       "      <th>MoreInfoLink</th>\n",
       "    </tr>\n",
       "  </thead>\n",
       "  <tbody>\n",
       "    <tr>\n",
       "      <th>0</th>\n",
       "      <td>International Coalition of Medicines Regulator...</td>\n",
       "      <td>https://www.ema.europa.eu/en/partners-networks...</td>\n",
       "      <td>EMA endorsed a joint statement by the members ...</td>\n",
       "      <td>28 April</td>\n",
       "      <td>International regulators pledge collective sup...</td>\n",
       "    </tr>\n",
       "    <tr>\n",
       "      <th>1</th>\n",
       "      <td>Availability of medicines during COVID-19 pand...</td>\n",
       "      <td>https://www.ema.europa.eu/en/human-regulatory/...</td>\n",
       "      <td>EMA provided an update on the measures EU auth...</td>\n",
       "      <td>24 April</td>\n",
       "      <td>EU actions to support availability of medicine...</td>\n",
       "    </tr>\n",
       "    <tr>\n",
       "      <th>2</th>\n",
       "      <td>Public-health advice during COVID-19 pandemic</td>\n",
       "      <td>https://www.ema.europa.eu/en/human-regulatory/...</td>\n",
       "      <td>EMA and the national competent authorities rem...</td>\n",
       "      <td>24 April</td>\n",
       "      <td>Reporting suspected side effects of medicines ...</td>\n",
       "    </tr>\n",
       "    <tr>\n",
       "      <th>3</th>\n",
       "      <td>EMA’s governance during COVID-19 pandemic</td>\n",
       "      <td>https://www.ema.europa.eu/en/human-regulatory/...</td>\n",
       "      <td>EMA announced that essential work to combat th...</td>\n",
       "      <td>23 April</td>\n",
       "      <td>Essential work to combat the COVID-19 pandemic...</td>\n",
       "    </tr>\n",
       "    <tr>\n",
       "      <th>4</th>\n",
       "      <td>Public-health advice during COVID-19 pandemic</td>\n",
       "      <td>https://www.ema.europa.eu/en/human-regulatory/...</td>\n",
       "      <td>EMA reminded patients and healthcare professio...</td>\n",
       "      <td>23 April</td>\n",
       "      <td>COVID-19: reminder of risk of serious side eff...</td>\n",
       "    </tr>\n",
       "  </tbody>\n",
       "</table>\n",
       "</div>"
      ],
      "text/plain": [
       "                                               Title  \\\n",
       "0  International Coalition of Medicines Regulator...   \n",
       "1  Availability of medicines during COVID-19 pand...   \n",
       "2      Public-health advice during COVID-19 pandemic   \n",
       "3          EMA’s governance during COVID-19 pandemic   \n",
       "4      Public-health advice during COVID-19 pandemic   \n",
       "\n",
       "                                                Link  \\\n",
       "0  https://www.ema.europa.eu/en/partners-networks...   \n",
       "1  https://www.ema.europa.eu/en/human-regulatory/...   \n",
       "2  https://www.ema.europa.eu/en/human-regulatory/...   \n",
       "3  https://www.ema.europa.eu/en/human-regulatory/...   \n",
       "4  https://www.ema.europa.eu/en/human-regulatory/...   \n",
       "\n",
       "                                            Abstract PublishedDate  \\\n",
       "0  EMA endorsed a joint statement by the members ...      28 April   \n",
       "1  EMA provided an update on the measures EU auth...      24 April   \n",
       "2  EMA and the national competent authorities rem...      24 April   \n",
       "3  EMA announced that essential work to combat th...      23 April   \n",
       "4  EMA reminded patients and healthcare professio...      23 April   \n",
       "\n",
       "                                        MoreInfoLink  \n",
       "0  International regulators pledge collective sup...  \n",
       "1  EU actions to support availability of medicine...  \n",
       "2  Reporting suspected side effects of medicines ...  \n",
       "3  Essential work to combat the COVID-19 pandemic...  \n",
       "4  COVID-19: reminder of risk of serious side eff...  "
      ]
     },
     "execution_count": 56,
     "metadata": {},
     "output_type": "execute_result"
    }
   ],
   "source": [
    "# Create pandas dataframe\n",
    "df = pd.DataFrame(data, columns = ['Title', 'Link', 'Abstract', 'PublishedDate', 'MoreInfoLink'])\n",
    "df.head()"
   ]
  },
  {
   "cell_type": "code",
   "execution_count": 57,
   "metadata": {},
   "outputs": [],
   "source": [
    "# Export CSV\n",
    "df.to_csv('data/emea_articles.csv')"
   ]
  },
  {
   "cell_type": "code",
   "execution_count": null,
   "metadata": {},
   "outputs": [],
   "source": []
  }
 ],
 "metadata": {
  "kernelspec": {
   "display_name": "kedroexperiment",
   "language": "python",
   "name": "python3"
  },
  "language_info": {
   "codemirror_mode": {
    "name": "ipython",
    "version": 3
   },
   "file_extension": ".py",
   "mimetype": "text/x-python",
   "name": "python",
   "nbconvert_exporter": "python",
   "pygments_lexer": "ipython3",
   "version": "3.7.7"
  }
 },
 "nbformat": 4,
 "nbformat_minor": 4
}
