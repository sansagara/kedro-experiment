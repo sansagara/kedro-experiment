{
 "cells": [
  {
   "cell_type": "markdown",
   "metadata": {},
   "source": [
    "**Step 1:** Get articles from [NEJM](https://www.nejm.org/coronavirus).\n",
    "We can use the requests library to do this."
   ]
  },
  {
   "cell_type": "code",
   "execution_count": 38,
   "metadata": {},
   "outputs": [],
   "source": [
    "# import statements\n",
    "import requests\n",
    "from bs4 import BeautifulSoup\n",
    "import pandas as pd"
   ]
  },
  {
   "cell_type": "code",
   "execution_count": 27,
   "metadata": {},
   "outputs": [],
   "source": [
    "# fetch web page\n",
    "r = requests.get(\"https://www.nejm.org/coronavirus\")"
   ]
  },
  {
   "cell_type": "markdown",
   "metadata": {},
   "source": [
    "**Step 2:** Use BeautifulSoup to remove HTML tags.\n",
    "Use \"lxml\" rather than \"html5lib\".\n",
    "Outputting all the results may overload the space available to load this notebook, so we omit a print statement here.\n"
   ]
  },
  {
   "cell_type": "code",
   "execution_count": 28,
   "metadata": {},
   "outputs": [],
   "source": [
    "soup = BeautifulSoup(r.text, \"lxml\")"
   ]
  },
  {
   "cell_type": "markdown",
   "metadata": {},
   "source": [
    "**Step 3:** Find all course summaries\n",
    "Use the BeautifulSoup's find_all method to select based on tag type and class name. On Chrome, you can right click on the item, and click \"Inspect\" to view its html on a web page."
   ]
  },
  {
   "cell_type": "code",
   "execution_count": 29,
   "metadata": {},
   "outputs": [
    {
     "name": "stdout",
     "output_type": "stream",
     "text": [
      "Number of articles: 51\n"
     ]
    }
   ],
   "source": [
    "# Find all articles\n",
    "articles = soup.find_all(\"li\", {\"class\":\"m-article\"})\n",
    "print('Number of articles:', len(articles))"
   ]
  },
  {
   "cell_type": "code",
   "execution_count": 30,
   "metadata": {},
   "outputs": [
    {
     "name": "stdout",
     "output_type": "stream",
     "text": [
      "<li class=\"m-article m-article--xl\">\n",
      " <a class=\"m-article__img\" href=\"/doi/full/10.1056/NEJMoa2008457?query=featured_coronavirus\">\n",
      "  <span class=\"m-article__img-container\">\n",
      "   <img alt=\"publication image\" height=\"200\" sizes=\"(min-width: 1480px) 560px,\n",
      "                            (min-width: 1280px) calc(((100vw - 120px) / 12) * 5),\n",
      "                            (min-width: 1024px) calc(((100vw - 90px) / 12) * 5),\n",
      "                            (min-width: 768px) calc(((100vw - 70px) / 8) * 5),\n",
      "                             (min-width: 480px) calc(100vw - 40px),\n",
      "                            calc(100vw - 32px)\" src=\"/pb-assets/images/editorial/large/NEJMoa2008457_600x400-1588017826020.jpg\" srcset=\"/pb-assets/images/editorial/large/NEJMoa2008457_600x400-1588017826020.jpg\" width=\"300\"/>\n",
      "  </span>\n",
      " </a>\n",
      " <a class=\"m-article__type f-caps\" href=\"/medical-articles/original-article\">\n",
      "  Original Article\n",
      " </a>\n",
      " <a class=\"m-article__link\" href=\"/doi/full/10.1056/NEJMoa2008457?query=featured_coronavirus\">\n",
      "  <b class=\"m-article__title f-h3\">\n",
      "   Presymptomatic SARS-CoV-2 in a Nursing Facility\n",
      "  </b>\n",
      "  <em class=\"m-article__author f-author\">\n",
      "   M.M. Arons and Others\n",
      "  </em>\n",
      "  <span class=\"m-article__blurb f-blurb\">\n",
      "   <p>\n",
      "    The authors assessed transmission of SARS-CoV-2 and evaluated the adequacy of symptom-based screening in a skilled nursing facility. More than half of residents with positive test results were asymptomatic at the time of testing. Infection-control strategies focused solely on symptomatic residents were not sufficient to prevent transmission.\n",
      "   </p>\n",
      "  </span>\n",
      "  <em class=\"m-article__date f-tag\">\n",
      "   Apr 24\n",
      "  </em>\n",
      " </a>\n",
      " <p>\n",
      "  <a class=\"m-article__related f-related\" href=\"doi/full/10.1056/NEJMe2009758\">\n",
      "   <strong>\n",
      "    Editorial\n",
      "   </strong>\n",
      "   Asymptomatic Transmission, the Achilles’ Heel of Current Strategies to Control Covid-19\n",
      "  </a>\n",
      " </p>\n",
      " <a aria-labelledby=\"iconsLabelFor10.1056/NEJMoa2008457\" href=\"/doi/full/10.1056/NEJMoa2008457?query=featured_coronavirus\">\n",
      "  <span class=\"m-article__icons\" id=\"iconsLabelFor10.1056/NEJMoa2008457\">\n",
      "   <svg aria-label=\"Free Icon.\" class=\"icon--free\">\n",
      "    <use xlink:href=\"#icon--free\">\n",
      "    </use>\n",
      "   </svg>\n",
      "  </span>\n",
      " </a>\n",
      "</li>\n",
      "\n"
     ]
    }
   ],
   "source": [
    "# print the first summary in articles\n",
    "print(articles[0].prettify())"
   ]
  },
  {
   "cell_type": "code",
   "execution_count": 31,
   "metadata": {},
   "outputs": [
    {
     "data": {
      "text/plain": [
       "'Original Article'"
      ]
     },
     "execution_count": 31,
     "metadata": {},
     "output_type": "execute_result"
    }
   ],
   "source": [
    "# Extract article type\n",
    "articles[0].select_one(\".m-article__type\").get_text().strip()"
   ]
  },
  {
   "cell_type": "code",
   "execution_count": 44,
   "metadata": {},
   "outputs": [
    {
     "data": {
      "text/plain": [
       "'/doi/full/10.1056/NEJMoa2008457?query=featured_coronavirus'"
      ]
     },
     "execution_count": 44,
     "metadata": {},
     "output_type": "execute_result"
    }
   ],
   "source": [
    "# Extract article link\n",
    "articles[0].select_one(\".m-article__link\")['href']"
   ]
  },
  {
   "cell_type": "code",
   "execution_count": 33,
   "metadata": {},
   "outputs": [
    {
     "data": {
      "text/plain": [
       "'Presymptomatic SARS-CoV-2 in a Nursing Facility'"
      ]
     },
     "execution_count": 33,
     "metadata": {},
     "output_type": "execute_result"
    }
   ],
   "source": [
    "# Extract article title\n",
    "articles[0].select_one(\".m-article__title\").get_text().strip()"
   ]
  },
  {
   "cell_type": "code",
   "execution_count": 53,
   "metadata": {},
   "outputs": [
    {
     "data": {
      "text/plain": [
       "'M.M. Arons and Others'"
      ]
     },
     "execution_count": 53,
     "metadata": {},
     "output_type": "execute_result"
    }
   ],
   "source": [
    "# Extract article authors\n",
    "articles[0].select_one(\".m-article__author\").get_text().strip()"
   ]
  },
  {
   "cell_type": "code",
   "execution_count": 21,
   "metadata": {},
   "outputs": [
    {
     "data": {
      "text/plain": [
       "'The authors assessed transmission of SARS-CoV-2 and evaluated the adequacy of symptom-based screening in a skilled nursing facility. More than half of residents with positive test results were asymptomatic at the time of testing. Infection-control strategies focused solely on symptomatic residents were not sufficient to prevent transmission.'"
      ]
     },
     "execution_count": 21,
     "metadata": {},
     "output_type": "execute_result"
    }
   ],
   "source": [
    "# Extract citation\n",
    "articles[0].select_one(\".m-article__blurb\").get_text().strip()"
   ]
  },
  {
   "cell_type": "code",
   "execution_count": 52,
   "metadata": {},
   "outputs": [
    {
     "data": {
      "text/plain": [
       "'Apr 24'"
      ]
     },
     "execution_count": 52,
     "metadata": {},
     "output_type": "execute_result"
    }
   ],
   "source": [
    "# Extract published date\n",
    "articles[0].select_one(\".m-article__date\").get_text().strip()"
   ]
  },
  {
   "cell_type": "code",
   "execution_count": 24,
   "metadata": {},
   "outputs": [
    {
     "data": {
      "text/plain": [
       "'icon--free'"
      ]
     },
     "execution_count": 24,
     "metadata": {},
     "output_type": "execute_result"
    }
   ],
   "source": [
    "# Extract availability\n",
    "articles[0].select_one(\".m-article__icons\").find('svg').attrs['class'][0]"
   ]
  },
  {
   "cell_type": "markdown",
   "metadata": {},
   "source": [
    "## Create dataset from All Articles"
   ]
  },
  {
   "cell_type": "code",
   "execution_count": 76,
   "metadata": {},
   "outputs": [],
   "source": [
    "# Create data list\n",
    "data = list()\n",
    "for article in articles:\n",
    "    data.append(\n",
    "        [article.select_one(\".m-article__type\").get_text().strip(),\n",
    "         article.select_one(\".m-article__title\").get_text().strip(),\n",
    "         article.select_one(\".m-article__link\")['href'] if article.find_all(\"a\", {\"class\": \"m-article__link\"}) else 'N/A',\n",
    "         article.select_one(\".m-article__author\").get_text() if article.find_all(\"em\", {\"class\": \"m-article__author\"}) else 'N/A',\n",
    "         article.select_one(\".m-article__blurb\").get_text().strip(),\n",
    "         article.select_one(\".m-article__date\").get_text() if article.find_all(\"em\", {\"class\": \"m-article__date\"}) else 'N/A',\n",
    "         article.select_one(\".m-article__icons\").find('svg').attrs['class'][0].split('--')[1] if article.find_all(\"em\", {\"class\": \"m-article__icons\"}) else 'N/A'\n",
    "    ])"
   ]
  },
  {
   "cell_type": "code",
   "execution_count": 77,
   "metadata": {},
   "outputs": [
    {
     "data": {
      "text/html": [
       "<div>\n",
       "<style scoped>\n",
       "    .dataframe tbody tr th:only-of-type {\n",
       "        vertical-align: middle;\n",
       "    }\n",
       "\n",
       "    .dataframe tbody tr th {\n",
       "        vertical-align: top;\n",
       "    }\n",
       "\n",
       "    .dataframe thead th {\n",
       "        text-align: right;\n",
       "    }\n",
       "</style>\n",
       "<table border=\"1\" class=\"dataframe\">\n",
       "  <thead>\n",
       "    <tr style=\"text-align: right;\">\n",
       "      <th></th>\n",
       "      <th>Type</th>\n",
       "      <th>Title</th>\n",
       "      <th>Link</th>\n",
       "      <th>Authors</th>\n",
       "      <th>Abstract</th>\n",
       "      <th>PublishedDate</th>\n",
       "      <th>Availability</th>\n",
       "    </tr>\n",
       "  </thead>\n",
       "  <tbody>\n",
       "    <tr>\n",
       "      <th>0</th>\n",
       "      <td>Original Article</td>\n",
       "      <td>Presymptomatic SARS-CoV-2 in a Nursing Facility</td>\n",
       "      <td>/doi/full/10.1056/NEJMoa2008457?query=featured...</td>\n",
       "      <td>M.M. Arons and Others</td>\n",
       "      <td>The authors assessed transmission of SARS-CoV-...</td>\n",
       "      <td>Apr 24</td>\n",
       "      <td>N/A</td>\n",
       "    </tr>\n",
       "    <tr>\n",
       "      <th>1</th>\n",
       "      <td>Clinical Practice</td>\n",
       "      <td>Mild or Moderate Covid-19</td>\n",
       "      <td>/doi/full/10.1056/NEJMcp2009249?query=featured...</td>\n",
       "      <td>R.T. Gandhi, J.B. Lynch, and C. del Rio</td>\n",
       "      <td>The diagnosis of Covid-19 is usually based on ...</td>\n",
       "      <td>Apr 24</td>\n",
       "      <td>N/A</td>\n",
       "    </tr>\n",
       "    <tr>\n",
       "      <th>2</th>\n",
       "      <td>Correspondence</td>\n",
       "      <td>Transforming ORs into ICUs</td>\n",
       "      <td>/doi/full/10.1056/NEJMc2010853?query=featured_...</td>\n",
       "      <td>A.W. Peters, K.S. Chawla, and Z.A. Turnbull</td>\n",
       "      <td>In the epicenter of New York City, a medical c...</td>\n",
       "      <td>Apr 24</td>\n",
       "      <td>N/A</td>\n",
       "    </tr>\n",
       "    <tr>\n",
       "      <th>3</th>\n",
       "      <td>Correspondence</td>\n",
       "      <td>ST-Segment Elevation in Covid-19</td>\n",
       "      <td>/doi/full/10.1056/NEJMc2009020?query=featured_...</td>\n",
       "      <td>S. Bangalore and Others</td>\n",
       "      <td>Eighteen patients with Covid-19 presented with...</td>\n",
       "      <td>Apr 17</td>\n",
       "      <td>N/A</td>\n",
       "    </tr>\n",
       "    <tr>\n",
       "      <th>4</th>\n",
       "      <td>Correspondence</td>\n",
       "      <td>Neurologic Features in SARS-CoV-2 Infection</td>\n",
       "      <td>/doi/full/10.1056/NEJMc2008597?query=featured_...</td>\n",
       "      <td>J. Helms and Others</td>\n",
       "      <td>In a consecutive series of 64 patients with Co...</td>\n",
       "      <td>Apr 15</td>\n",
       "      <td>N/A</td>\n",
       "    </tr>\n",
       "  </tbody>\n",
       "</table>\n",
       "</div>"
      ],
      "text/plain": [
       "                Type                                            Title  \\\n",
       "0   Original Article  Presymptomatic SARS-CoV-2 in a Nursing Facility   \n",
       "1  Clinical Practice                        Mild or Moderate Covid-19   \n",
       "2     Correspondence                       Transforming ORs into ICUs   \n",
       "3     Correspondence                 ST-Segment Elevation in Covid-19   \n",
       "4     Correspondence      Neurologic Features in SARS-CoV-2 Infection   \n",
       "\n",
       "                                                Link  \\\n",
       "0  /doi/full/10.1056/NEJMoa2008457?query=featured...   \n",
       "1  /doi/full/10.1056/NEJMcp2009249?query=featured...   \n",
       "2  /doi/full/10.1056/NEJMc2010853?query=featured_...   \n",
       "3  /doi/full/10.1056/NEJMc2009020?query=featured_...   \n",
       "4  /doi/full/10.1056/NEJMc2008597?query=featured_...   \n",
       "\n",
       "                                       Authors  \\\n",
       "0                        M.M. Arons and Others   \n",
       "1      R.T. Gandhi, J.B. Lynch, and C. del Rio   \n",
       "2  A.W. Peters, K.S. Chawla, and Z.A. Turnbull   \n",
       "3                      S. Bangalore and Others   \n",
       "4                          J. Helms and Others   \n",
       "\n",
       "                                            Abstract PublishedDate  \\\n",
       "0  The authors assessed transmission of SARS-CoV-...        Apr 24   \n",
       "1  The diagnosis of Covid-19 is usually based on ...        Apr 24   \n",
       "2  In the epicenter of New York City, a medical c...        Apr 24   \n",
       "3  Eighteen patients with Covid-19 presented with...        Apr 17   \n",
       "4  In a consecutive series of 64 patients with Co...        Apr 15   \n",
       "\n",
       "  Availability  \n",
       "0          N/A  \n",
       "1          N/A  \n",
       "2          N/A  \n",
       "3          N/A  \n",
       "4          N/A  "
      ]
     },
     "execution_count": 77,
     "metadata": {},
     "output_type": "execute_result"
    }
   ],
   "source": [
    "# Create pandas dataframe\n",
    "df = pd.DataFrame(data, columns = ['Type', 'Title', 'Link', 'Authors', 'Abstract', 'PublishedDate', 'Availability'])\n",
    "df.head()"
   ]
  },
  {
   "cell_type": "code",
   "execution_count": 78,
   "metadata": {},
   "outputs": [],
   "source": [
    "# Export CSV\n",
    "df.to_csv('data/nejm_articles.csv')"
   ]
  },
  {
   "cell_type": "code",
   "execution_count": null,
   "metadata": {},
   "outputs": [],
   "source": []
  }
 ],
 "metadata": {
  "kernelspec": {
   "display_name": "kedroexperiment",
   "language": "python",
   "name": "python3"
  },
  "language_info": {
   "codemirror_mode": {
    "name": "ipython",
    "version": 3
   },
   "file_extension": ".py",
   "mimetype": "text/x-python",
   "name": "python",
   "nbconvert_exporter": "python",
   "pygments_lexer": "ipython3",
   "version": "3.7.7"
  }
 },
 "nbformat": 4,
 "nbformat_minor": 4
}
